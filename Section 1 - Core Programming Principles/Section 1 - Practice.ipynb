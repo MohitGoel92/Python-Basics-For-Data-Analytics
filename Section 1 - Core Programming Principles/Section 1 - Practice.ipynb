{
 "cells": [
  {
   "cell_type": "code",
   "execution_count": 2,
   "metadata": {},
   "outputs": [],
   "source": [
    "import numpy as np\n",
    "from numpy.random import randn"
   ]
  },
  {
   "cell_type": "code",
   "execution_count": 23,
   "metadata": {},
   "outputs": [
    {
     "name": "stdout",
     "output_type": "stream",
     "text": [
      "69.89999999999999 %\n"
     ]
    }
   ],
   "source": [
    "N = 1000\n",
    "x = randn(1000)\n",
    "counter = 0\n",
    "\n",
    "for item in x:\n",
    "    if item > -1 and item < 1:\n",
    "        counter = counter + 1\n",
    "print(counter/N * 100,'%')"
   ]
  }
 ],
 "metadata": {
  "kernelspec": {
   "display_name": "Python 3",
   "language": "python",
   "name": "python3"
  },
  "language_info": {
   "codemirror_mode": {
    "name": "ipython",
    "version": 3
   },
   "file_extension": ".py",
   "mimetype": "text/x-python",
   "name": "python",
   "nbconvert_exporter": "python",
   "pygments_lexer": "ipython3",
   "version": "3.7.1"
  }
 },
 "nbformat": 4,
 "nbformat_minor": 2
}
