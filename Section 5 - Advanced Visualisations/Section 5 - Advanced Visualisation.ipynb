{
 "cells": [
  {
   "cell_type": "markdown",
   "metadata": {},
   "source": [
    "# Importing the libraries"
   ]
  },
  {
   "cell_type": "code",
   "execution_count": null,
   "metadata": {},
   "outputs": [],
   "source": [
    "import pandas as pd\n",
    "import numpy as np\n",
    "import matplotlib.pyplot as plt\n",
    "import seaborn as sns\n",
    "%matplotlib inline\n",
    "import warnings\n",
    "warnings.filterwarnings('ignore')"
   ]
  },
  {
   "cell_type": "markdown",
   "metadata": {},
   "source": [
    "# Importing the dataset"
   ]
  },
  {
   "cell_type": "code",
   "execution_count": null,
   "metadata": {},
   "outputs": [],
   "source": [
    "ds = pd.read_csv('Movie_Ratings.csv')"
   ]
  },
  {
   "cell_type": "code",
   "execution_count": null,
   "metadata": {},
   "outputs": [],
   "source": [
    "ds.head()"
   ]
  },
  {
   "cell_type": "code",
   "execution_count": null,
   "metadata": {},
   "outputs": [],
   "source": [
    "ds.info()"
   ]
  },
  {
   "cell_type": "markdown",
   "metadata": {},
   "source": [
    "#### As the 'Year of release' is a category, it should not be treated like an ordinary integer. We will therefore change it to a categoryical data type."
   ]
  },
  {
   "cell_type": "code",
   "execution_count": null,
   "metadata": {},
   "outputs": [],
   "source": [
    "ds['Year of release'] = ds['Year of release'].astype('category')\n",
    "ds.Genre = ds.Genre.astype('category')"
   ]
  },
  {
   "cell_type": "code",
   "execution_count": null,
   "metadata": {},
   "outputs": [],
   "source": [
    "ds.info()"
   ]
  },
  {
   "cell_type": "code",
   "execution_count": null,
   "metadata": {},
   "outputs": [],
   "source": [
    "ds['Year of release'].unique()"
   ]
  },
  {
   "cell_type": "code",
   "execution_count": null,
   "metadata": {},
   "outputs": [],
   "source": [
    "ds.Genre.cat.categories"
   ]
  },
  {
   "cell_type": "markdown",
   "metadata": {},
   "source": [
    "# Joint Plots"
   ]
  },
  {
   "cell_type": "code",
   "execution_count": null,
   "metadata": {},
   "outputs": [],
   "source": [
    "jp = sns.jointplot(data = ds, x = 'Rotten Tomatoes Ratings %', y = 'Audience Ratings %', kind = 'scatter', color = 'maroon')"
   ]
  },
  {
   "cell_type": "code",
   "execution_count": null,
   "metadata": {},
   "outputs": [],
   "source": [
    "jp1 = sns.jointplot(data = ds, x = 'Rotten Tomatoes Ratings %', y = 'Audience Ratings %', kind = 'kde', color = 'darkgreen')"
   ]
  },
  {
   "cell_type": "code",
   "execution_count": null,
   "metadata": {},
   "outputs": [],
   "source": [
    "# We observe that the 'hex' type shows us where clusters of points are formed\n",
    "\n",
    "jp2 = sns.jointplot(data = ds, x = 'Rotten Tomatoes Ratings %', y = 'Audience Ratings %', kind = 'hex')"
   ]
  },
  {
   "cell_type": "markdown",
   "metadata": {},
   "source": [
    "# Histogram"
   ]
  },
  {
   "cell_type": "code",
   "execution_count": null,
   "metadata": {},
   "outputs": [],
   "source": [
    "sns.set_style('darkgrid')\n",
    "plt.hist(ds['Budget (million $)'], bins = 20)"
   ]
  },
  {
   "cell_type": "code",
   "execution_count": null,
   "metadata": {},
   "outputs": [],
   "source": [
    "ds.Genre.cat.categories"
   ]
  },
  {
   "cell_type": "code",
   "execution_count": null,
   "metadata": {},
   "outputs": [],
   "source": [
    "plt.hist([ds[ds.Genre == 'Action']['Budget (million $)'],\n",
    "         ds[ds.Genre == 'Adventure']['Budget (million $)'], \n",
    "         ds[ds.Genre == 'Comedy']['Budget (million $)'],\n",
    "         ds[ds.Genre == 'Drama']['Budget (million $)'],\n",
    "         ds[ds.Genre == 'Horror']['Budget (million $)'],\n",
    "         ds[ds.Genre == 'Romance']['Budget (million $)'],\n",
    "         ds[ds.Genre == 'Thriller']['Budget (million $)']], bins = 15, stacked = True)\n",
    "plt.show()"
   ]
  },
  {
   "cell_type": "code",
   "execution_count": null,
   "metadata": {},
   "outputs": [],
   "source": [
    "for gen in ds.Genre.cat.categories:\n",
    "    plt.hist([ds[ds.Genre == gen]['Budget (million $)']], stacked = True, bins = 15)\n",
    "plt.show()"
   ]
  },
  {
   "cell_type": "markdown",
   "metadata": {},
   "source": [
    "# Scatter Plots"
   ]
  },
  {
   "cell_type": "code",
   "execution_count": null,
   "metadata": {},
   "outputs": [],
   "source": [
    "sns.lmplot(data = ds, x = 'Rotten Tomatoes Ratings %', y = 'Audience Ratings %', hue = 'Genre', fit_reg = False, legend = False, aspect = 1, size = 7)\n",
    "plt.legend(loc = 'upper left', bbox_to_anchor = (1, 1.013))"
   ]
  },
  {
   "cell_type": "markdown",
   "metadata": {},
   "source": [
    "# Kernel Density Estimate Plot (KDE Plot)"
   ]
  },
  {
   "cell_type": "code",
   "execution_count": null,
   "metadata": {},
   "outputs": [],
   "source": [
    "# It is good practice to put 2 KDE plots on top of each other to have sharper edges\n",
    "\n",
    "kde1 = sns.kdeplot(ds['Rotten Tomatoes Ratings %'], ds['Audience Ratings %'], shade = True, shade_lowest = False)\n",
    "kde2 = sns.kdeplot(ds['Rotten Tomatoes Ratings %'], ds['Audience Ratings %'], cmap = 'Blues')"
   ]
  },
  {
   "cell_type": "markdown",
   "metadata": {},
   "source": [
    "# Working with Subplots()"
   ]
  },
  {
   "cell_type": "code",
   "execution_count": null,
   "metadata": {},
   "outputs": [],
   "source": [
    "# Subplots can be used to make dashboards\n",
    "\n",
    "f, axes = plt.subplots(1,2, figsize = (12,6), sharex = True, sharey = True)\n",
    "kde_1 = sns.kdeplot(ds['Budget (million $)'], ds['Rotten Tomatoes Ratings %'], ax = axes[0])\n",
    "kde_2 = sns.kdeplot(ds['Budget (million $)'], ds['Audience Ratings %'], ax = axes[1])\n",
    "kde_1.set(xlim = (-20, 200))"
   ]
  },
  {
   "cell_type": "markdown",
   "metadata": {},
   "source": [
    "# Violin plots and Box plots"
   ]
  },
  {
   "cell_type": "markdown",
   "metadata": {},
   "source": [
    "##### Violin plots are similar to Box plots, except they also show the probability density of the data at different values. Violin plots show the full distribution of the data."
   ]
  },
  {
   "cell_type": "code",
   "execution_count": null,
   "metadata": {},
   "outputs": [],
   "source": [
    "plt.rcParams['figure.figsize'] = (10,5)\n",
    "violinplot = sns.violinplot(data = ds, x = 'Genre', y = 'Budget (million $)')"
   ]
  },
  {
   "cell_type": "code",
   "execution_count": null,
   "metadata": {},
   "outputs": [],
   "source": [
    "boxplot = sns.boxplot(data = ds, x = 'Genre', y = 'Budget (million $)')"
   ]
  },
  {
   "cell_type": "markdown",
   "metadata": {},
   "source": [
    "# Facet Grid"
   ]
  },
  {
   "cell_type": "code",
   "execution_count": null,
   "metadata": {},
   "outputs": [],
   "source": [
    "facet_grid = sns.FacetGrid(ds, row = 'Year of release', col = 'Genre', hue = 'Genre')\n",
    "kws = dict(s=50, linewidth = 0.5, edgecolor = 'black')\n",
    "facet_grid = facet_grid.map(plt.scatter, 'Budget (million $)', 'Rotten Tomatoes Ratings %', **kws)"
   ]
  },
  {
   "cell_type": "code",
   "execution_count": null,
   "metadata": {},
   "outputs": [],
   "source": [
    "facet_grid = sns.FacetGrid(ds, row = 'Year of release', col = 'Genre', hue = 'Genre')\n",
    "facet_grid = facet_grid.map(plt.hist, 'Budget (million $)')"
   ]
  },
  {
   "cell_type": "markdown",
   "metadata": {},
   "source": [
    "# Building a dashboard"
   ]
  },
  {
   "cell_type": "code",
   "execution_count": null,
   "metadata": {},
   "outputs": [],
   "source": [
    "ds.head(2)"
   ]
  },
  {
   "cell_type": "code",
   "execution_count": null,
   "metadata": {},
   "outputs": [],
   "source": [
    "sns.set_style('darkgrid')\n",
    "f, axes = plt.subplots(2,2, figsize = (15,15))\n",
    "kde1 = sns.kdeplot(ds['Budget (million $)'], ds['Audience Ratings %'], cmap = 'Greens', shade = True, shade_lowest = False, ax = axes[0,0])\n",
    "kde1 = sns.kdeplot(ds['Budget (million $)'], ds['Audience Ratings %'], cmap = 'Greens', ax = axes[0,0])\n",
    "kde2 = sns.kdeplot(ds['Budget (million $)'], ds['Rotten Tomatoes Ratings %'], cmap = 'inferno', shade = True, shade_lowest = False, ax = axes[0,1])\n",
    "kde2 = sns.kdeplot(ds['Budget (million $)'], ds['Rotten Tomatoes Ratings %'], cmap = 'cool', ax = axes[0,1])\n",
    "plot3 = sns.violinplot(data = ds[ds.Genre == 'Drama'], x = ds['Year of release'], y = ds['Rotten Tomatoes Ratings %'], ax = axes[1,0])\n",
    "kde3 = sns.kdeplot(ds['Rotten Tomatoes Ratings %'], ds['Audience Ratings %'], cmap = 'Reds_r', shade = True, shade_lowest = False, ax = axes[1,1])\n",
    "kde3 = sns.kdeplot(ds['Rotten Tomatoes Ratings %'], ds['Audience Ratings %'], cmap = 'Reds_r', ax = axes[1,1])\n",
    "kde3.set(xlim = (-20, 160))\n",
    "kde2.set(xlim = (-20, 160))\n",
    "kde1.set(xlim = (-20, 160))\n",
    "plt.show()"
   ]
  },
  {
   "cell_type": "markdown",
   "metadata": {},
   "source": [
    "# Get Creative"
   ]
  },
  {
   "cell_type": "code",
   "execution_count": null,
   "metadata": {},
   "outputs": [],
   "source": [
    "# Define the style\n",
    "_.set(style=\"darkgrid\", palette=\"muted\", color_codes=True)\n",
    "\n",
    "# Plot the boxsplots\n",
    "ax = sns._(data=_, x='_', y='_', orient='v', color='lightgray', showfliers=False)\n",
    "plt.setp(ax.artists, alpha=0.5)\n",
    "\n",
    "# Add in points to show each observation\n",
    "_.stripplot(x='_', y='_', data=_, jitter=True, size=6, linewidth=0, hue = 'Studio', alpha=0.7)\n",
    "\n",
    "ax.axes.set_title('_',fontsize=30)\n",
    "ax.set_xlabel('_',fontsize=20)\n",
    "ax.set_ylabel('_',fontsize=20)\n",
    "\n",
    "# Define where to place the legend\n",
    "ax.legend(bbox_to_anchor=(1.05, 1), loc=2, borderaxespad=0.)"
   ]
  },
  {
   "cell_type": "code",
   "execution_count": null,
   "metadata": {},
   "outputs": [],
   "source": [
    "sns.set(style=\"darkgrid\", palette=\"muted\", color_codes=True)\n",
    "plt.rcParams['figure.figsize'] = 12, 12\n",
    "ax = sns.boxplot(data=ds, x='Genre', y='Audience Ratings %', orient='v', color='lightgray', showfliers=False)\n",
    "plt.setp(ax.artists, alpha=0.5)\n",
    "sns.stripplot(data = ds, x='Genre', y='Audience Ratings %', jitter=True, size=6, linewidth=0, hue = 'Genre', alpha=0.7)\n",
    "ax.axes.set_title('Audience Rating Per Genre',fontsize=30)\n",
    "ax.set_xlabel('Genre',fontsize=20, color = 'grey')\n",
    "ax.set_ylabel('Audience Rating',fontsize=20, color = 'grey')\n",
    "ax.legend(bbox_to_anchor=(1, 1.0075), loc=2)"
   ]
  },
  {
   "cell_type": "markdown",
   "metadata": {},
   "source": [
    "# Quiz"
   ]
  },
  {
   "cell_type": "code",
   "execution_count": null,
   "metadata": {},
   "outputs": [],
   "source": [
    "# Q1: You are performing analytics on a dataset with information about customers of a bank. \n",
    "# Which of the following columns should most likely be a categorical data type?\n",
    "\n",
    "# 1.) Account balance\n",
    "# 2.) Credit limit\n",
    "# 3.) Postcode\n",
    "# 4.) Number of years with the bank\n",
    "\n",
    "Q1_ans = print(round(17/7 + 1/3 + 9/17 - 5/22))"
   ]
  },
  {
   "cell_type": "code",
   "execution_count": null,
   "metadata": {},
   "outputs": [],
   "source": [
    "# Q2: Which function did we use to create dashboards in this course?\n",
    "\n",
    "# 1.) plt.plot()\n",
    "# 2.) plt.subplots()\n",
    "# 3.) sns.FacetGrid()\n",
    "# 4.) sns.dashboard()\n",
    "\n",
    "Q2_ans = print(round(1/17 + 79/17 - 55/22))"
   ]
  },
  {
   "cell_type": "code",
   "execution_count": null,
   "metadata": {},
   "outputs": [],
   "source": [
    "# Q3: How many columns and/or rows are required to create a violinplot using Seaborn? \n",
    "# What do their types have to be?\n",
    "\n",
    "# 1.) 1 column: numeric\n",
    "# 2.) 1 column: categorical\n",
    "# 3.) 2 columns: both numerical\n",
    "# 4.) 2 columns: 1 categorical and 1 numerical\n",
    "\n",
    "Q3_ans = print(round(17/9 + 4/3 + 9/13 - 7/22))"
   ]
  },
  {
   "cell_type": "code",
   "execution_count": null,
   "metadata": {},
   "outputs": [],
   "source": [
    "# Q4: We are working with the following code:\n",
    "\n",
    "'''\n",
    "f, axes = plt.subplots(2, 1, figsize=(15,15))\n",
    "k1 = sns.kdeplot(movies.BudgetMillions, movies.AudienceRating, \\\n",
    "                 shade=True, shade_lowest=False, cmap='cool', \\\n",
    "                 ax=axes[0])\n",
    "plt.show()\n",
    "'''\n",
    "\n",
    "# This code produces two subplots, one under the other. The first one has the KDE plot, the second one is empty. \n",
    "# However, your project requirements have changed and now you need to have 4 subplots in a 2x2 matrix. \n",
    "# The KDE plot must stay in the top left spot. You replace the first line of code with the following code:\n",
    "\n",
    "'''\n",
    "f, axes = plt.subplots(2, 2, figsize=(15,15))\n",
    "'''\n",
    "\n",
    "# What other change do you need to make to your code in order to avoid getting an error?\n",
    "\n",
    "\n",
    "# 1.) Replace \"ax = axes[0]\" with \"ax = axes[0,0]\"\n",
    "# 2.) Replace \"sns.kdeplot\" with \"plt.hist\"\n",
    "# 3.) Replace \"figsize = (15,15)\" with \"figsize = (2,2)\"\n",
    "# 4.) No changes are required\n",
    "\n",
    "Q4_ans = print(round(7/9 - 4/13 + 27/47 ))"
   ]
  },
  {
   "cell_type": "code",
   "execution_count": null,
   "metadata": {},
   "outputs": [],
   "source": [
    "# Q5: Which of the following parameters is not a real parameter of plt.legend()\n",
    "\n",
    "# 1.) frameon\n",
    "# 2.) fancybox\n",
    "# 3.) shadow\n",
    "# 4.) bins\n",
    "\n",
    "Q5_ans = print(round(5/11 + 15/7 + 13/11))"
   ]
  }
 ],
 "metadata": {
  "kernelspec": {
   "display_name": "Python 3",
   "language": "python",
   "name": "python3"
  },
  "language_info": {
   "codemirror_mode": {
    "name": "ipython",
    "version": 3
   },
   "file_extension": ".py",
   "mimetype": "text/x-python",
   "name": "python",
   "nbconvert_exporter": "python",
   "pygments_lexer": "ipython3",
   "version": "3.7.1"
  }
 },
 "nbformat": 4,
 "nbformat_minor": 2
}
